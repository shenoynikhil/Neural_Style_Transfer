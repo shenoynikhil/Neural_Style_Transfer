{
 "cells": [
  {
   "cell_type": "code",
   "execution_count": 1,
   "metadata": {},
   "outputs": [],
   "source": [
    "import torch \n",
    "import torch.nn as nn\n",
    "import torch.nn.functional as F\n",
    "import torch.optim as optim\n",
    "\n",
    "from PIL import Image\n",
    "import matplotlib.pyplot as plt\n",
    "\n",
    "import torchvision.transforms as transforms\n",
    "import torchvision.models as models\n",
    "\n",
    "import copy"
   ]
  },
  {
   "cell_type": "code",
   "execution_count": 4,
   "metadata": {},
   "outputs": [],
   "source": [
    "def content_loss(g, c):\n",
    "    return F.mse_loss(g, c)\n",
    "\n",
    "def style_loss(g, s):\n",
    "    return F.mse_loss(g, s) / (g.shape[0] ** 2)\n",
    "\n",
    "def gram_matrix(x):\n",
    "    _, B, H, W = x.size()\n",
    "    x = x.view(B, H * W)\n",
    "    return torch.matmul(x, x.t())"
   ]
  },
  {
   "cell_type": "code",
   "execution_count": 6,
   "metadata": {},
   "outputs": [],
   "source": [
    "# cnn = models.vgg19(pretrained=True).features.to(device).eval()"
   ]
  },
  {
   "cell_type": "code",
   "execution_count": null,
   "metadata": {},
   "outputs": [],
   "source": [
    "# Load VGG19 Skeleton\n",
    "vgg = models.vgg19(pretrained=True)\n",
    "\n",
    "# Change Pooling Layer\n",
    "def pool_(model, pool='avg'):\n",
    "    if (pool=='avg'):\n",
    "        ct=0\n",
    "        for layer in model.children():\n",
    "            if isinstance(layer, nn.MaxPool2d):\n",
    "                model[ct] = nn.AvgPool2d(kernel_size=2, stride=2, padding=0, ceil_mode=False)\n",
    "            ct+=1\n",
    "    elif (pool=='max'):\n",
    "        ct=0\n",
    "        for layer in model.children():\n",
    "            if isinstance(layer, nn.AvgPool2d):\n",
    "                model[ct] = nn.MaxPool2d(kernel_size=2, stride=2, padding=0, dilation=1, ceil_mode=False)\n",
    "            ct+=1\n",
    "            \n",
    "    return model\n",
    "\n",
    "#vgg.features = pool_(vgg.features, POOL)\n",
    "\n",
    "# Extract only the 'features' network, \n",
    "# 'classifier' network is not needed\n",
    "model = copy.deepcopy(vgg.features)\n",
    "model.to(device)\n",
    "\n",
    "# Turn-off unnecessary gradient tracking\n",
    "for param in model.parameters():\n",
    "    param.requires_grad = False"
   ]
  }
 ],
 "metadata": {
  "kernelspec": {
   "display_name": "Python 3",
   "language": "python",
   "name": "python3"
  },
  "language_info": {
   "codemirror_mode": {
    "name": "ipython",
    "version": 3
   },
   "file_extension": ".py",
   "mimetype": "text/x-python",
   "name": "python",
   "nbconvert_exporter": "python",
   "pygments_lexer": "ipython3",
   "version": "3.7.2"
  }
 },
 "nbformat": 4,
 "nbformat_minor": 2
}
